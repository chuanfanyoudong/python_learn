{
 "cells": [
  {
   "cell_type": "code",
   "execution_count": 1,
   "metadata": {
    "collapsed": true
   },
   "outputs": [],
   "source": [
    "from sklearn.feature_extraction.text import TfidfTransformer"
   ]
  },
  {
   "cell_type": "code",
   "execution_count": 2,
   "metadata": {},
   "outputs": [],
   "source": [
    "tfidf = TfidfTransformer()"
   ]
  },
  {
   "cell_type": "code",
   "execution_count": 15,
   "metadata": {},
   "outputs": [
    {
     "data": {
      "text/plain": [
       "{'norm': 'l2', 'smooth_idf': True, 'sublinear_tf': False, 'use_idf': True}"
      ]
     },
     "execution_count": 15,
     "metadata": {},
     "output_type": "execute_result"
    }
   ],
   "source": [
    "tfidf.get_params()  # norm = 12不太懂啥意思"
   ]
  },
  {
   "cell_type": "code",
   "execution_count": 38,
   "metadata": {},
   "outputs": [
    {
     "data": {
      "text/plain": [
       "array([[0.85151335, 0.        , 0.52433293],\n       [1.        , 0.        , 0.        ],\n       [1.        , 0.        , 0.        ],\n       [1.        , 0.        , 0.        ],\n       [0.55422893, 0.83236428, 0.        ],\n       [0.63035731, 0.        , 0.77630514]])"
      ]
     },
     "execution_count": 38,
     "metadata": {},
     "output_type": "execute_result"
    }
   ],
   "source": [
    "#counts = [[1,0,2],[1,2,0]]\n",
    "counts = [[3,0,1],[2,0,0],[3,0,0],[4,0,0],[3,2,0],[3,0,2]]  # 其内部算法用的是ln而不是log  \n",
    "a = tfidf.fit_transform(counts).toarray()\n",
    "a"
   ]
  },
  {
   "cell_type": "code",
   "execution_count": 43,
   "metadata": {},
   "outputs": [
    {
     "data": {
      "text/plain": [
       "array([1.        , 2.25276297, 1.84729786])"
      ]
     },
     "execution_count": 43,
     "metadata": {},
     "output_type": "execute_result"
    }
   ],
   "source": [
    "tfidf.idf_  # 每个特征的权重"
   ]
  },
  {
   "cell_type": "code",
   "execution_count": 50,
   "metadata": {},
   "outputs": [],
   "source": [
    "from sklearn.feature_extraction.text import TfidfVectorizer"
   ]
  },
  {
   "cell_type": "code",
   "execution_count": 51,
   "metadata": {},
   "outputs": [],
   "source": [
    "corpus = ['This is the first document.',\n",
    "'This is the second second document.',\n",
    "'And the third one.',\n",
    "'Is this the first document?']"
   ]
  },
  {
   "cell_type": "code",
   "execution_count": 56,
   "metadata": {},
   "outputs": [],
   "source": [
    "vectorizer = TfidfVectorizer()\n",
    "X = vectorizer.fit_transform(corpus)"
   ]
  },
  {
   "cell_type": "code",
   "execution_count": 58,
   "metadata": {},
   "outputs": [
    {
     "data": {
      "text/plain": [
       "array([[0.        , 0.43877674, 0.54197657, 0.43877674, 0.        ,\n        0.        , 0.35872874, 0.        , 0.43877674],\n       [0.        , 0.27230147, 0.        , 0.27230147, 0.        ,\n        0.85322574, 0.22262429, 0.        , 0.27230147],\n       [0.55280532, 0.        , 0.        , 0.        , 0.55280532,\n        0.        , 0.28847675, 0.55280532, 0.        ],\n       [0.        , 0.43877674, 0.54197657, 0.43877674, 0.        ,\n        0.        , 0.35872874, 0.        , 0.43877674]])"
      ]
     },
     "execution_count": 58,
     "metadata": {},
     "output_type": "execute_result"
    }
   ],
   "source": [
    "X.toarray()"
   ]
  },
  {
   "cell_type": "code",
   "execution_count": 59,
   "metadata": {},
   "outputs": [
    {
     "data": {
      "text/plain": [
       "{'analyzer': 'word',\n 'binary': False,\n 'decode_error': 'strict',\n 'dtype': numpy.int64,\n 'encoding': 'utf-8',\n 'input': 'content',\n 'lowercase': True,\n 'max_df': 1.0,\n 'max_features': None,\n 'min_df': 1,\n 'ngram_range': (1, 1),\n 'norm': 'l2',\n 'preprocessor': None,\n 'smooth_idf': True,\n 'stop_words': None,\n 'strip_accents': None,\n 'sublinear_tf': False,\n 'token_pattern': '(?u)\\\\b\\\\w\\\\w+\\\\b',\n 'tokenizer': None,\n 'use_idf': True,\n 'vocabulary': None}"
      ]
     },
     "execution_count": 59,
     "metadata": {},
     "output_type": "execute_result"
    }
   ],
   "source": [
    "vectorizer.get_params()"
   ]
  }
 ],
 "metadata": {
  "kernelspec": {
   "display_name": "Python 2",
   "language": "python",
   "name": "python2"
  },
  "language_info": {
   "codemirror_mode": {
    "name": "ipython",
    "version": 2
   },
   "file_extension": ".py",
   "mimetype": "text/x-python",
   "name": "python",
   "nbconvert_exporter": "python",
   "pygments_lexer": "ipython2",
   "version": "2.7.6"
  }
 },
 "nbformat": 4,
 "nbformat_minor": 0
}
